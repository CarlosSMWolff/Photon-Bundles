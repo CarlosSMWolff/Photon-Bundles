{
 "cells": [
  {
   "cell_type": "code",
   "execution_count": null,
   "metadata": {},
   "outputs": [],
   "source": []
  }
 ],
 "metadata": {
  "kernelspec": {
   "display_name": "Qutip",
   "language": "python",
   "name": "python3"
  },
  "language_info": {
   "name": "python",
   "version": "3.9.13"
  },
  "orig_nbformat": 4,
  "vscode": {
   "interpreter": {
    "hash": "3edf10cf27171603c7f4c9989650f758ec4195f7c30a56cc7d1410fc7a6a5c0a"
   }
  }
 },
 "nbformat": 4,
 "nbformat_minor": 2
}
