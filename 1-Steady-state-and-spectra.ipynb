{
  "cells": [
    {
      "cell_type": "markdown",
      "source": [
        "# Import necessary packages"
      ],
      "metadata": {
        "id": "Jz7MaZ-NCb2R"
      }
    },
    {
      "cell_type": "code",
      "execution_count": 2,
      "metadata": {
        "id": "QMpEe5_rCMlO",
        "outputId": "5c9858ff-ce8b-4496-9cfd-9d5a15950ce2",
        "colab": {
          "base_uri": "https://localhost:8080/"
        }
      },
      "outputs": [
        {
          "output_type": "stream",
          "name": "stdout",
          "text": [
            "Looking in indexes: https://pypi.org/simple, https://us-python.pkg.dev/colab-wheels/public/simple/\n",
            "Requirement already satisfied: qutip in /usr/local/lib/python3.8/dist-packages (4.7.1)\n",
            "Requirement already satisfied: packaging in /usr/local/lib/python3.8/dist-packages (from qutip) (23.0)\n",
            "Requirement already satisfied: numpy>=1.16.6 in /usr/local/lib/python3.8/dist-packages (from qutip) (1.22.4)\n",
            "Requirement already satisfied: scipy>=1.0 in /usr/local/lib/python3.8/dist-packages (from qutip) (1.7.3)\n"
          ]
        }
      ],
      "source": [
        "import os\n",
        "isColab= 'google.colab' in str(get_ipython())\n",
        "if isColab:\n",
        "  ! pip install qutip\n",
        "\n",
        "import numpy as np\n",
        "from qutip import *\n",
        "\n",
        "from numpy import sqrt, pi\n",
        "import matplotlib\n",
        "matplotlib.rcParams['mathtext.fontset'] = 'stix'\n",
        "matplotlib.rcParams['font.family'] = 'STIXGeneral'\n",
        "matplotlib.rcParams.update({'font.size': 18})\n",
        "import matplotlib.pyplot as plt\n",
        "from tqdm import tqdm\n",
        "\n",
        "import scipy.sparse as sp\n",
        "import scipy.linalg as la\n",
        "from scipy.sparse.linalg import spsolve\n",
        "if qutip.settings.has_mkl:\n",
        "    from qutip._mkl.spsolve import mkl_spsolve\n"
      ]
    },
    {
      "cell_type": "markdown",
      "source": [
        "# Understanding the dressed qubit (nonlinear oscillator)"
      ],
      "metadata": {
        "id": "yMc2q8HoSBjr"
      }
    },
    {
      "cell_type": "markdown",
      "source": [
        "Our approach will consist on dressing the qubit states with the laser, enabling non-number conserving interactions with the cavity. Here, we will see that if $\\Omega_q > U$, we will be seeing higher levels in the qubit. If we want to keep a simple description based on a qubit, $U$ will set a limit to the power with which we drive the qubit. We can still see interesting things for higher powers, but we loose the qubit description and the physics becomes messier."
      ],
      "metadata": {
        "id": "T7u9a9fyWMfJ"
      }
    },
    {
      "cell_type": "code",
      "source": [
        "Nqubit = 7\n",
        "b = destroy(Nqubit)\n",
        "\n",
        "def gen_H_qubit(params_H:list):\n",
        "  # This function generates a Hamiltonian in the rotating frame of the drive.\n",
        "  # Both qubit and cavity can be directly driven in this scheme \n",
        "\n",
        "  Delta_q, U, Omega_q = params_H\n",
        "  H = (Delta_q*b.dag()*b + U*b.dag()*b.dag()*b*b + Omega_q*(b.dag()+b))\n",
        "  return H"
      ],
      "metadata": {
        "id": "DpUmkg4uSDs0"
      },
      "execution_count": 3,
      "outputs": []
    },
    {
      "cell_type": "code",
      "source": [
        "Omega_q_min = 0.; Omega_q_max = 200; nOmega = 100;\n",
        "Omega_q_list = np.linspace(Omega_q_min, Omega_q_max, nOmega)\n",
        "\n",
        "U = -100"
      ],
      "metadata": {
        "id": "pbwolaYlS1T6"
      },
      "execution_count": 4,
      "outputs": []
    },
    {
      "cell_type": "code",
      "source": [
        "eigen_Omega = np.asarray([gen_H_qubit([0., U, Omega_q]).eigenenergies() for Omega_q in Omega_q_list])\n",
        "eigen_Omega.shape"
      ],
      "metadata": {
        "id": "FZ6LlL7ETBwi",
        "outputId": "905ec1af-13c9-4d24-f7be-3ce3608584c7",
        "colab": {
          "base_uri": "https://localhost:8080/"
        }
      },
      "execution_count": 5,
      "outputs": [
        {
          "output_type": "execute_result",
          "data": {
            "text/plain": [
              "(100, 7)"
            ]
          },
          "metadata": {},
          "execution_count": 5
        }
      ]
    },
    {
      "cell_type": "markdown",
      "source": [
        "Here we see that for $\\Omega_q \\ll U$ (with U the red line), the states $|0\\rangle$ and $|1\\rangle$ are dressed, while the higher states stay pretty much the same."
      ],
      "metadata": {
        "id": "Al9wv-fYW5hY"
      }
    },
    {
      "cell_type": "code",
      "source": [
        "fig, ax = plt.subplots(figsize= (7,5))\n",
        "for idx in range(Nqubit):\n",
        "  ax.plot(Omega_q_list, eigen_Omega[:,idx], 'b-')\n",
        "ax.set_xlabel(\"$\\Omega_q$\"); ax.set_ylabel(\"Energies\")\n",
        "ax.axvline(x=np.abs(U), color='red')\n",
        "plt.show()"
      ],
      "metadata": {
        "id": "uqLwz4noUbKU",
        "outputId": "09f0e602-9f2d-4dcb-c1a6-e865225f72eb",
        "colab": {
          "base_uri": "https://localhost:8080/",
          "height": 351
        }
      },
      "execution_count": 6,
      "outputs": [
        {
          "output_type": "display_data",
          "data": {
            "text/plain": [
              "<Figure size 504x360 with 1 Axes>"
            ],
            "image/png": "[encoded data removed]"
          },
          "metadata": {
            "needs_background": "light"
          }
        }
      ]
    },
    {
      "cell_type": "code",
      "source": [
        "Omega_q = 10\n",
        "vac_q = basis(Nqubit,0)\n",
        "\n",
        "tini = 0.; tfin = 4*2*pi/Omega_q; nt = 1000; times = np.linspace(tini, tfin, nt)\n",
        "H = gen_H_qubit([0., U, Omega_q])\n",
        "                \n",
        "result = mesolve(H, rho0 = vac_q,  tlist = times, c_ops = [])"
      ],
      "metadata": {
        "id": "lMz_bG9WXqgk"
      },
      "execution_count": 7,
      "outputs": []
    },
    {
      "cell_type": "code",
      "source": [
        "def pop_time_index(idx, result):\n",
        "  return [np.squeeze(np.abs(psi[idx])**2) for psi in result.states]"
      ],
      "metadata": {
        "id": "FlC5C5BIX-Hc"
      },
      "execution_count": 8,
      "outputs": []
    },
    {
      "cell_type": "code",
      "source": [
        "for idx in range(Nqubit):\n",
        "  plt.plot(times, pop_time_index(idx,result), alpha = 0.5)\n",
        "\n",
        "plt.show()"
      ],
      "metadata": {
        "outputId": "7ecba4a7-d1f9-4455-ee03-73e9c5294c97",
        "colab": {
          "base_uri": "https://localhost:8080/",
          "height": 271
        },
        "id": "U_aodub9X-Hf"
      },
      "execution_count": 9,
      "outputs": [
        {
          "output_type": "display_data",
          "data": {
            "text/plain": [
              "<Figure size 432x288 with 1 Axes>"
            ],
            "image/png": "[encoded data removed]"
          },
          "metadata": {
            "needs_background": "light"
          }
        }
      ]
    },
    {
      "cell_type": "markdown",
      "source": [
        "# Define the system"
      ],
      "metadata": {
        "id": "QRx5f9mTCieW"
      }
    },
    {
      "cell_type": "markdown",
      "source": [
        "We will define a cavity with annihilation operator $\\hat a$, and a qubit given by a cavity with annihilation operator $\\hat b$ and a Kerr-type nonlinearity $U$."
      ],
      "metadata": {
        "id": "7-8otG4hCoRz"
      }
    },
    {
      "cell_type": "code",
      "source": [
        "Ncav = 3     # Truncation number in the cavity \n",
        "Nqubit = 3    # Trunction number in the qubit-cavity\n",
        "\n",
        "a = tensor(destroy(Ncav), qeye(Nqubit))\n",
        "b = tensor(qeye(Ncav), destroy(Nqubit))\n",
        "\n",
        "vac = tensor(basis(Ncav,0), basis(Nqubit,0))"
      ],
      "metadata": {
        "id": "N-EAaMySC3uh"
      },
      "execution_count": 10,
      "outputs": []
    },
    {
      "cell_type": "markdown",
      "source": [
        "We define a function to create the following Hamiltonian, in the rotating frame of a coherent drive:\n",
        "\n",
        "$ \\hat H = \\Delta_a \\hat a^\\dagger \\hat a + \\Delta_q \\hat b ^\\dagger \\hat b \n",
        "+ U \\hat b^\\dagger \\hat b^\\dagger \\hat b \\hat b + g(\\hat a^\\dagger \\hat b + \\hat a \\hat b^\\dagger )  + \\Omega_a (\\hat a + \\hat a^\\dagger) + \\Omega_q(\\hat b + \\hat b^\\dagger)$\n",
        "\n",
        "We assume:\n",
        "\n",
        "\n",
        "1.  Qubit described by Kerr cavity\n",
        "2.   Jaynes-Cummings interaction\n",
        "\n",
        "\n"
      ],
      "metadata": {
        "id": "HRVJ6t1ZEHZj"
      }
    },
    {
      "cell_type": "code",
      "source": [
        "def gen_Hamiltonian(params_H:list):\n",
        "  # This function generates a Hamiltonian in the rotating frame of the drive.\n",
        "  # Both qubit and cavity can be directly driven in this scheme \n",
        "\n",
        "  Delta_q, Delta_a, g, U, Omega_a, Omega_q = params_H\n",
        "  H = (Delta_a * a.dag()*a + Delta_q*b.dag()*b + U*b.dag()*b.dag()*b*b +\n",
        "       g*(a.dag()*b + b.dag()*a) \n",
        "  + Omega_a*(a.dag()+a) + Omega_q*(b.dag()+b))\n",
        "  return H"
      ],
      "metadata": {
        "id": "Ryn47w2rDWVc"
      },
      "execution_count": 11,
      "outputs": []
    },
    {
      "cell_type": "code",
      "source": [
        "def gen_Liouv(params_H:list, params_L: list):\n",
        "  # params_H : Hamiltonian_parameters\n",
        "  # param_L : Dissipative parameters (losses, dephasing)\n",
        "  H = gen_Hamiltonian(params_H)\n",
        "  kappa, gamma_q, gamma_phi = params_L\n",
        "  c_ops = [sqrt(kappa)*a, sqrt(gamma_q)*b, sqrt(gamma_phi)*b.dag()*b]\n",
        "  return liouvillian(H, c_ops)"
      ],
      "metadata": {
        "id": "8_u6_XLbD_yK"
      },
      "execution_count": 12,
      "outputs": []
    },
    {
      "cell_type": "code",
      "source": [
        "# System parameters in MHz\n",
        "U = -100 # MHz\n",
        "g = 1 \n",
        "\n",
        "kappa = 0.5\n",
        "gamma_phi = 0.5\n",
        "gamma_q = 0.05\n",
        "\n",
        "Delta_q = 0\n",
        "Delta_a = 10*g"
      ],
      "metadata": {
        "id": "8IT4JJEYF-BK"
      },
      "execution_count": 117,
      "outputs": []
    },
    {
      "cell_type": "code",
      "source": [
        "Omega_q = 20*g;\n",
        "Omega_a = 0.;\n",
        "\n",
        "params_H = Delta_q, Delta_a, g, U, Omega_a, Omega_q \n",
        "params_L = kappa, gamma_q, gamma_phi\n",
        "\n",
        "L = gen_Liouv(params_H, params_L)\n",
        "rho_ss = steadystate(L)\n",
        "liouvM=L.data\n",
        "h2 = liouvM.shape[0] # Hilbert size ^2\n",
        "rhs= ((rho_ss*(a.dag()))).data.reshape((h2,1))"
      ],
      "metadata": {
        "id": "QimSARnGZtYp"
      },
      "execution_count": 119,
      "outputs": []
    },
    {
      "cell_type": "code",
      "source": [
        "id = sp.identity(h2)\n",
        "omega = 0.3;\n",
        "1j*id*omega"
      ],
      "metadata": {
        "id": "97lAWPEigX67",
        "outputId": "c7da8d0c-3b5c-49fd-8f3e-5e27a226e2fb",
        "colab": {
          "base_uri": "https://localhost:8080/"
        }
      },
      "execution_count": 120,
      "outputs": [
        {
          "output_type": "execute_result",
          "data": {
            "text/plain": [
              "<81x81 sparse matrix of type '<class 'numpy.complex128'>'\n",
              "\twith 81 stored elements (1 diagonals) in DIAgonal format>"
            ]
          },
          "metadata": {},
          "execution_count": 120
        }
      ]
    },
    {
      "cell_type": "code",
      "source": [
        "def Spectrum(omega, liouv, a, rhs = None):\n",
        "  liouvM=liouv.data\n",
        "  h2 = liouvM.shape[0] # Hilbert size ^2\n",
        "  id = sp.identity(h2)\n",
        "\n",
        "  if rhs ==None:\n",
        "    rho_ss = steadystate(liouv)\n",
        "    rhs= ((rho_ss*(a.dag()))).data.reshape((h2,1))\n",
        "\n",
        "  v = spsolve(liouvM + 1j*id*omega, rhs)\n",
        "  rho_eff=vec2mat(v)\n",
        "  aM = a.data\n",
        "  return -np.real(np.trace(aM*rho_eff))/pi"
      ],
      "metadata": {
        "id": "OVyvWmeKdnQz"
      },
      "execution_count": 121,
      "outputs": []
    },
    {
      "cell_type": "code",
      "source": [
        "omega_min = -2*Omega_q; omega_max = -omega_min; nomega = 400\n",
        "omega_grid = np.linspace(omega_min, omega_max, nomega)"
      ],
      "metadata": {
        "id": "rYnL9LRYeXz8"
      },
      "execution_count": 128,
      "outputs": []
    },
    {
      "cell_type": "code",
      "source": [
        "spectrum = np.asarray([Spectrum(omega, L, a, rhs) for omega in omega_grid])"
      ],
      "metadata": {
        "id": "IuKDtjrgejja"
      },
      "execution_count": 129,
      "outputs": []
    },
    {
      "cell_type": "code",
      "source": [
        "plt.plot(omega_grid, spectrum)\n",
        "plt.show()"
      ],
      "metadata": {
        "id": "NhXa2Qeif9AO",
        "outputId": "54b99357-72c3-4173-c819-9f6bc1c4dca4",
        "colab": {
          "base_uri": "https://localhost:8080/",
          "height": 276
        }
      },
      "execution_count": 130,
      "outputs": [
        {
          "output_type": "display_data",
          "data": {
            "text/plain": [
              "<Figure size 432x288 with 1 Axes>"
            ],
            "image/png": "[encoded data removed]"
          },
          "metadata": {
            "needs_background": "light"
          }
        }
      ]
    },
    {
      "cell_type": "code",
      "source": [
        "eigen_vecs=L.eigenstates()\n",
        "E = np.transpose(np.reshape(\n",
        "    np.array([eigen_vecs[1][i].full() for i in range(h2)]), \n",
        "    (h2,h2)))\n",
        "Einv = np.linalg.inv(E)\n",
        "EinvTr = Einv.T\n",
        "eigvals = eigen_vecs[0]\n",
        "Einvrhs=EinvTr@rhs"
      ],
      "metadata": {
        "id": "ELgyYys3fx_K"
      },
      "execution_count": 131,
      "outputs": []
    },
    {
      "cell_type": "code",
      "source": [
        "aM = a.data\n",
        "spectrum=np.asarray([-np.real((aM*vec2mat((E@((1/(eigvals + 1j*omega))*EinvTr).T)@rhs)).trace())/pi for omega in omega_grid])"
      ],
      "metadata": {
        "id": "KVMXOg4AiIWQ"
      },
      "execution_count": 132,
      "outputs": []
    },
    {
      "cell_type": "code",
      "source": [
        "plt.plot(omega_grid, spectrum)\n",
        "plt.show()"
      ],
      "metadata": {
        "id": "wXyWvVCwhQ8e",
        "outputId": "6f2e508c-034c-4af8-bbae-b854f725b40f",
        "colab": {
          "base_uri": "https://localhost:8080/",
          "height": 276
        }
      },
      "execution_count": 133,
      "outputs": [
        {
          "output_type": "display_data",
          "data": {
            "text/plain": [
              "<Figure size 432x288 with 1 Axes>"
            ],
            "image/png": "[encoded data removed]"
          },
          "metadata": {
            "needs_background": "light"
          }
        }
      ]
    },
    {
      "cell_type": "code",
      "source": [],
      "metadata": {
        "id": "YQR89ssAkF8X"
      },
      "execution_count": 127,
      "outputs": []
    }
  ],
  "metadata": {
    "kernelspec": {
      "display_name": "Qutip",
      "language": "python",
      "name": "python3"
    },
    "language_info": {
      "name": "python",
      "version": "3.9.13"
    },
    "orig_nbformat": 4,
    "vscode": {
      "interpreter": {
        "hash": "3edf10cf27171603c7f4c9989650f758ec4195f7c30a56cc7d1410fc7a6a5c0a"
      }
    },
    "colab": {
      "provenance": [],
      "toc_visible": true
    }
  },
  "nbformat": 4,
  "nbformat_minor": 0
}