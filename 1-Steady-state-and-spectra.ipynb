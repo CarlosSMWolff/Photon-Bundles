{
  "cells": [
    {
      "cell_type": "markdown",
      "source": [
        "# Import necessary packages"
      ],
      "metadata": {
        "id": "Jz7MaZ-NCb2R"
      }
    },
    {
      "cell_type": "code",
      "execution_count": 1,
      "metadata": {
        "colab": {
          "base_uri": "https://localhost:8080/"
        },
        "id": "QMpEe5_rCMlO",
        "outputId": "59cd0d36-b066-4854-b85d-89e18cf73f31"
      },
      "outputs": [
        {
          "output_type": "stream",
          "name": "stdout",
          "text": [
            "Looking in indexes: https://pypi.org/simple, https://us-python.pkg.dev/colab-wheels/public/simple/\n",
            "Requirement already satisfied: qutip in /usr/local/lib/python3.8/dist-packages (4.7.1)\n",
            "Requirement already satisfied: scipy>=1.0 in /usr/local/lib/python3.8/dist-packages (from qutip) (1.7.3)\n",
            "Requirement already satisfied: numpy>=1.16.6 in /usr/local/lib/python3.8/dist-packages (from qutip) (1.22.4)\n",
            "Requirement already satisfied: packaging in /usr/local/lib/python3.8/dist-packages (from qutip) (23.0)\n"
          ]
        }
      ],
      "source": [
        "import os\n",
        "isColab= 'google.colab' in str(get_ipython())\n",
        "if isColab:\n",
        "  ! pip install qutip\n",
        "\n",
        "import numpy as np\n",
        "from qutip import *\n",
        "\n",
        "from numpy import sqrt, pi\n",
        "import matplotlib\n",
        "matplotlib.rcParams['mathtext.fontset'] = 'stix'\n",
        "matplotlib.rcParams['font.family'] = 'STIXGeneral'\n",
        "matplotlib.rcParams.update({'font.size': 18})\n",
        "import matplotlib.pyplot as plt\n",
        "from tqdm import tqdm\n",
        "\n",
        "import scipy.sparse as sp\n",
        "import scipy.linalg as la\n",
        "from scipy.sparse.linalg import spsolve\n",
        "if qutip.settings.has_mkl:\n",
        "    from qutip._mkl.spsolve import mkl_spsolve\n"
      ]
    },
    {
      "cell_type": "markdown",
      "source": [
        "# Understanding the dressed qubit (nonlinear oscillator)"
      ],
      "metadata": {
        "id": "yMc2q8HoSBjr"
      }
    },
    {
      "cell_type": "markdown",
      "source": [
        "Our approach will consist on dressing the qubit states with the laser, enabling non-number conserving interactions with the cavity. Here, we will see that if $\\Omega_q > U$, we will be seeing higher levels in the qubit. If we want to keep a simple description based on a qubit, $U$ will set a limit to the power with which we drive the qubit. We can still see interesting things for higher powers, but we loose the qubit description and the physics becomes messier."
      ],
      "metadata": {
        "id": "T7u9a9fyWMfJ"
      }
    },
    {
      "cell_type": "code",
      "source": [
        "Nqubit = 7\n",
        "b = destroy(Nqubit)\n",
        "\n",
        "def gen_H_qubit(params_H:list):\n",
        "  # This function generates a Hamiltonian in the rotating frame of the drive.\n",
        "  # Both qubit and cavity can be directly driven in this scheme \n",
        "\n",
        "  Delta_q, U, Omega_q = params_H\n",
        "  H = (Delta_q*b.dag()*b + U*b.dag()*b.dag()*b*b + Omega_q*(b.dag()+b))\n",
        "  return H"
      ],
      "metadata": {
        "id": "DpUmkg4uSDs0"
      },
      "execution_count": 2,
      "outputs": []
    },
    {
      "cell_type": "code",
      "source": [
        "Omega_q_min = 0.; Omega_q_max = 200; nOmega = 100;\n",
        "Omega_q_list = np.linspace(Omega_q_min, Omega_q_max, nOmega)\n",
        "\n",
        "U = -100"
      ],
      "metadata": {
        "id": "pbwolaYlS1T6"
      },
      "execution_count": 3,
      "outputs": []
    },
    {
      "cell_type": "code",
      "source": [
        "eigen_Omega = np.asarray([gen_H_qubit([0., U, Omega_q]).eigenenergies() for Omega_q in Omega_q_list])\n",
        "eigen_Omega.shape"
      ],
      "metadata": {
        "colab": {
          "base_uri": "https://localhost:8080/"
        },
        "id": "FZ6LlL7ETBwi",
        "outputId": "30a569f6-102d-46da-be0b-8cb7755988c8"
      },
      "execution_count": 4,
      "outputs": [
        {
          "output_type": "execute_result",
          "data": {
            "text/plain": [
              "(100, 7)"
            ]
          },
          "metadata": {},
          "execution_count": 4
        }
      ]
    },
    {
      "cell_type": "markdown",
      "source": [
        "Here we see that for $\\Omega_q \\ll U$ (with U the red line), the states $|0\\rangle$ and $|1\\rangle$ are dressed, while the higher states stay pretty much the same."
      ],
      "metadata": {
        "id": "Al9wv-fYW5hY"
      }
    },
    {
      "cell_type": "code",
      "source": [
        "fig, ax = plt.subplots(figsize= (7,5))\n",
        "for idx in range(Nqubit):\n",
        "  ax.plot(Omega_q_list, eigen_Omega[:,idx], 'b-')\n",
        "ax.set_xlabel(\"$\\Omega_q$\"); ax.set_ylabel(\"Energies\")\n",
        "ax.axvline(x=np.abs(U), color='red')\n",
        "plt.show()"
      ],
      "metadata": {
        "colab": {
          "base_uri": "https://localhost:8080/",
          "height": 351
        },
        "id": "uqLwz4noUbKU",
        "outputId": "f0bde77a-736c-4c96-acad-3c01a4980340"
      },
      "execution_count": 6,
      "outputs": [
        {
          "output_type": "display_data",
          "data": {
            "text/plain": [
              "<Figure size 504x360 with 1 Axes>"
            ],
            "image/png": "[encoded data removed]"
          },
          "metadata": {
            "needs_background": "light"
          }
        }
      ]
    },
    {
      "cell_type": "code",
      "source": [
        "Omega_q = 10\n",
        "vac_q = basis(Nqubit,0)\n",
        "\n",
        "tini = 0.; tfin = 4*2*pi/Omega_q; nt = 1000; times = np.linspace(tini, tfin, nt)\n",
        "H = gen_H_qubit([0., U, Omega_q])\n",
        "                \n",
        "result = mesolve(H, rho0 = vac_q,  tlist = times, c_ops = [])"
      ],
      "metadata": {
        "id": "lMz_bG9WXqgk"
      },
      "execution_count": 7,
      "outputs": []
    },
    {
      "cell_type": "code",
      "source": [
        "def pop_time_index(idx, result):\n",
        "  return [np.squeeze(np.abs(psi[idx])**2) for psi in result.states]"
      ],
      "metadata": {
        "id": "FlC5C5BIX-Hc"
      },
      "execution_count": 8,
      "outputs": []
    },
    {
      "cell_type": "code",
      "source": [
        "for idx in range(Nqubit):\n",
        "  plt.plot(times, pop_time_index(idx,result), alpha = 0.5)\n",
        "\n",
        "plt.show()"
      ],
      "metadata": {
        "outputId": "a3de5db5-611a-498d-a2e4-80e23300a0b5",
        "colab": {
          "base_uri": "https://localhost:8080/",
          "height": 271
        },
        "id": "U_aodub9X-Hf"
      },
      "execution_count": 9,
      "outputs": [
        {
          "output_type": "display_data",
          "data": {
            "text/plain": [
              "<Figure size 432x288 with 1 Axes>"
            ],
            "image/png": "[encoded data removed]"
          },
          "metadata": {
            "needs_background": "light"
          }
        }
      ]
    },
    {
      "cell_type": "markdown",
      "source": [
        "# Define the system"
      ],
      "metadata": {
        "id": "QRx5f9mTCieW"
      }
    },
    {
      "cell_type": "markdown",
      "source": [
        "We will define a cavity with annihilation operator $\\hat a$, and a qubit given by a cavity with annihilation operator $\\hat b$ and a Kerr-type nonlinearity $U$."
      ],
      "metadata": {
        "id": "7-8otG4hCoRz"
      }
    },
    {
      "cell_type": "code",
      "source": [
        "Ncav = 3     # Truncation number in the cavity \n",
        "Nqubit = 2    # Trunction number in the qubit-cavity\n",
        "\n",
        "a = tensor(destroy(Ncav), qeye(Nqubit))\n",
        "b = tensor(qeye(Ncav), destroy(Nqubit))\n",
        "\n",
        "vac = tensor(basis(Ncav,0), basis(Nqubit,0))"
      ],
      "metadata": {
        "id": "N-EAaMySC3uh"
      },
      "execution_count": 10,
      "outputs": []
    },
    {
      "cell_type": "markdown",
      "source": [
        "We define a function to create the following Hamiltonian, in the rotating frame of a coherent drive:\n",
        "\n",
        "$ \\hat H = \\Delta_a \\hat a^\\dagger \\hat a + \\Delta_q \\hat b ^\\dagger \\hat b \n",
        "+ U \\hat b^\\dagger \\hat b^\\dagger \\hat b \\hat b + g(\\hat a^\\dagger \\hat b + \\hat a \\hat b^\\dagger )  + \\Omega_a (\\hat a + \\hat a^\\dagger) + \\Omega_q(\\hat b + \\hat b^\\dagger)$\n",
        "\n",
        "We assume:\n",
        "\n",
        "\n",
        "1.  Qubit described by Kerr cavity\n",
        "2.   Jaynes-Cummings interaction\n",
        "\n",
        "\n"
      ],
      "metadata": {
        "id": "HRVJ6t1ZEHZj"
      }
    },
    {
      "cell_type": "code",
      "source": [
        "def gen_Hamiltonian(params_H:list):\n",
        "  # This function generates a Hamiltonian in the rotating frame of the drive.\n",
        "  # Both qubit and cavity can be directly driven in this scheme \n",
        "\n",
        "  Delta_q, Delta_a, g, U, Omega_a, Omega_q = params_H\n",
        "  H = (Delta_a * a.dag()*a + Delta_q*b.dag()*b + U*b.dag()*b.dag()*b*b +\n",
        "       g*(a.dag()*b + b.dag()*a) \n",
        "  + Omega_a*(a.dag()+a) + Omega_q*(b.dag()+b))\n",
        "  return H"
      ],
      "metadata": {
        "id": "Ryn47w2rDWVc"
      },
      "execution_count": 11,
      "outputs": []
    },
    {
      "cell_type": "code",
      "source": [
        "def gen_Liouv(params_H:list, params_L: list):\n",
        "  # params_H : Hamiltonian_parameters\n",
        "  # param_L : Dissipative parameters (losses, dephasing)\n",
        "  H = gen_Hamiltonian(params_H)\n",
        "  kappa, gamma_q, gamma_phi = params_L\n",
        "  c_ops = [sqrt(kappa)*a, sqrt(gamma_q)*b, sqrt(gamma_phi)*b.dag()*b]\n",
        "  return liouvillian(H, c_ops)"
      ],
      "metadata": {
        "id": "8_u6_XLbD_yK"
      },
      "execution_count": 12,
      "outputs": []
    },
    {
      "cell_type": "code",
      "source": [
        "# System parameters in MHz\n",
        "U = -100 # MHz\n",
        "g = 1 \n",
        "\n",
        "kappa = 0.5\n",
        "gamma_phi = 0.5\n",
        "gamma_q = 0.05\n",
        "\n",
        "Delta_q = 0\n",
        "Delta_a = 10*g"
      ],
      "metadata": {
        "id": "8IT4JJEYF-BK"
      },
      "execution_count": 13,
      "outputs": []
    },
    {
      "cell_type": "code",
      "source": [
        "Omega_q = 20*g;\n",
        "Omega_a = 0.;\n",
        "\n",
        "params_H = Delta_q, Delta_a, g, U, Omega_a, Omega_q \n",
        "params_L = kappa, gamma_q, gamma_phi\n",
        "\n",
        "L = gen_Liouv(params_H, params_L)\n",
        "rho_ss = steadystate(L)\n",
        "liouvM=L.data\n",
        "h2 = liouvM.shape[0] # Hilbert size ^2\n",
        "rhs= ((rho_ss*(a.dag()))).data.reshape((h2,1))"
      ],
      "metadata": {
        "id": "QimSARnGZtYp"
      },
      "execution_count": 14,
      "outputs": []
    },
    {
      "cell_type": "code",
      "source": [
        "plt.imshow(np.abs(liouvM.todense()), cmap = \"magma\")\n",
        "plt.show()"
      ],
      "metadata": {
        "colab": {
          "base_uri": "https://localhost:8080/",
          "height": 274
        },
        "id": "8HJ-uAqJluXT",
        "outputId": "e132625d-09c5-414f-8c4b-1045ffbdc4d0"
      },
      "execution_count": 15,
      "outputs": [
        {
          "output_type": "display_data",
          "data": {
            "text/plain": [
              "<Figure size 432x288 with 1 Axes>"
            ],
            "image/png": "[encoded data removed]"
          },
          "metadata": {
            "needs_background": "light"
          }
        }
      ]
    },
    {
      "cell_type": "code",
      "source": [
        "liouvM[0,:].todense()"
      ],
      "metadata": {
        "id": "oRqccvY65yya",
        "outputId": "4a60306f-2b11-47f1-88a7-6e8627230066",
        "colab": {
          "base_uri": "https://localhost:8080/"
        }
      },
      "execution_count": 30,
      "outputs": [
        {
          "output_type": "execute_result",
          "data": {
            "text/plain": [
              "matrix([[0.   +0.j, 0.  -20.j, 0.   +0.j, 0.   +0.j, 0.   +0.j,\n",
              "         0.   +0.j, 0.  +20.j, 0.05 +0.j, 0.   +0.j, 0.   +0.j,\n",
              "         0.   +0.j, 0.   +0.j, 0.   +0.j, 0.   +0.j, 0.5  +0.j,\n",
              "         0.   +0.j, 0.   +0.j, 0.   +0.j, 0.   +0.j, 0.   +0.j,\n",
              "         0.   +0.j, 0.   +0.j, 0.   +0.j, 0.   +0.j, 0.   +0.j,\n",
              "         0.   +0.j, 0.   +0.j, 0.   +0.j, 0.   +0.j, 0.   +0.j,\n",
              "         0.   +0.j, 0.   +0.j, 0.   +0.j, 0.   +0.j, 0.   +0.j,\n",
              "         0.   +0.j]])"
            ]
          },
          "metadata": {},
          "execution_count": 30
        }
      ]
    },
    {
      "cell_type": "code",
      "source": [
        "plt.plot(operator_to_vector(ket2dm(b.dag()*vac)))"
      ],
      "metadata": {
        "id": "8CWdZHa55V1Y",
        "outputId": "6a003f37-c779-4792-f8c5-1ac3f3b1d686",
        "colab": {
          "base_uri": "https://localhost:8080/",
          "height": 323
        }
      },
      "execution_count": 37,
      "outputs": [
        {
          "output_type": "stream",
          "name": "stderr",
          "text": [
            "/usr/local/lib/python3.8/dist-packages/matplotlib/cbook/__init__.py:1298: ComplexWarning: Casting complex values to real discards the imaginary part\n",
            "  return np.asarray(x, float)\n"
          ]
        },
        {
          "output_type": "execute_result",
          "data": {
            "text/plain": [
              "[<matplotlib.lines.Line2D at 0x7ff875f88430>]"
            ]
          },
          "metadata": {},
          "execution_count": 37
        },
        {
          "output_type": "display_data",
          "data": {
            "text/plain": [
              "<Figure size 432x288 with 1 Axes>"
            ],
            "image/png": "[encoded data removed]"
          },
          "metadata": {
            "needs_background": "light"
          }
        }
      ]
    },
    {
      "cell_type": "code",
      "source": [
        "omega = 10\n",
        "h2 = liouvM.shape[0] # Hilbert size ^2\n",
        "id = sp.identity(h2)\n",
        "v = spsolve(liouvM + 1j*id*omega, rhs)"
      ],
      "metadata": {
        "id": "zs6_6pBBn6lx"
      },
      "execution_count": 16,
      "outputs": []
    },
    {
      "cell_type": "code",
      "source": [
        "plt.plot(np.real(v))\n",
        "plt.show()"
      ],
      "metadata": {
        "colab": {
          "base_uri": "https://localhost:8080/",
          "height": 271
        },
        "id": "19Ouk2m9pLZ1",
        "outputId": "a05589e0-d146-4fb7-f153-3c119f517f83"
      },
      "execution_count": 209,
      "outputs": [
        {
          "output_type": "display_data",
          "data": {
            "text/plain": [
              "<Figure size 432x288 with 1 Axes>"
            ],
            "image/png": "[encoded data removed]"
          },
          "metadata": {
            "needs_background": "light"
          }
        }
      ]
    },
    {
      "cell_type": "code",
      "source": [
        "v.shape"
      ],
      "metadata": {
        "colab": {
          "base_uri": "https://localhost:8080/"
        },
        "id": "l2ioJZj8p_do",
        "outputId": "392725e5-a7aa-44a0-fcb1-887e50b7a523"
      },
      "execution_count": 201,
      "outputs": [
        {
          "output_type": "execute_result",
          "data": {
            "text/plain": [
              "(36,)"
            ]
          },
          "metadata": {},
          "execution_count": 201
        }
      ]
    },
    {
      "cell_type": "code",
      "source": [
        "ket(v)"
      ],
      "metadata": {
        "id": "0aFSdzDs35US",
        "outputId": "4ccf7b86-d822-4196-e9b1-84114cf18b58",
        "colab": {
          "base_uri": "https://localhost:8080/"
        }
      },
      "execution_count": null,
      "outputs": [
        {
          "output_type": "stream",
          "name": "stderr",
          "text": [
            "/usr/local/lib/python3.8/dist-packages/qutip/states.py:590: ComplexWarning: Casting complex values to real discards the imaginary part\n",
            "  return int(x)\n"
          ]
        }
      ]
    },
    {
      "cell_type": "code",
      "source": [
        "def Spectrum(omega, liouv, a, rhs = None):\n",
        "  liouvM=liouv.data\n",
        "  h2 = liouvM.shape[0] # Hilbert size ^2\n",
        "  id = sp.identity(h2)\n",
        "\n",
        "  if rhs ==None:\n",
        "    rho_ss = steadystate(liouv)\n",
        "    rhs= ((rho_ss*(a.dag()))).data.reshape((h2,1))\n",
        "\n",
        "  v = spsolve(liouvM + 1j*id*omega, rhs)\n",
        "  rho_eff=ket2dm(ket(v))\n",
        "  aM = a.data\n",
        "  return -np.real(np.trace(aM*rho_eff))/pi"
      ],
      "metadata": {
        "id": "OVyvWmeKdnQz"
      },
      "execution_count": 218,
      "outputs": []
    },
    {
      "cell_type": "code",
      "source": [
        "omega_min = -2*Omega_q; omega_max = -omega_min; nomega = 400\n",
        "omega_grid = np.linspace(omega_min, omega_max, nomega)"
      ],
      "metadata": {
        "id": "rYnL9LRYeXz8"
      },
      "execution_count": 219,
      "outputs": []
    },
    {
      "cell_type": "code",
      "source": [
        "spectrum = np.asarray([Spectrum(omega, L, a, rhs) for omega in tqdm(omega_grid)])"
      ],
      "metadata": {
        "colab": {
          "base_uri": "https://localhost:8080/",
          "height": 345
        },
        "id": "IuKDtjrgejja",
        "outputId": "b665c0ed-2f04-4013-8967-4f6b06d75388"
      },
      "execution_count": 220,
      "outputs": [
        {
          "output_type": "stream",
          "name": "stderr",
          "text": [
            "/usr/local/lib/python3.8/dist-packages/qutip/states.py:590: ComplexWarning: Casting complex values to real discards the imaginary part\n",
            "  return int(x)\n"
          ]
        },
        {
          "output_type": "error",
          "ename": "KeyboardInterrupt",
          "evalue": "ignored",
          "traceback": [
            "\u001b[0;31m---------------------------------------------------------------------------\u001b[0m",
            "\u001b[0;31mKeyboardInterrupt\u001b[0m                         Traceback (most recent call last)",
            "\u001b[0;32m<ipython-input-220-f09a0e14a7db>\u001b[0m in \u001b[0;36m<module>\u001b[0;34m\u001b[0m\n\u001b[0;32m----> 1\u001b[0;31m \u001b[0mspectrum\u001b[0m \u001b[0;34m=\u001b[0m \u001b[0mnp\u001b[0m\u001b[0;34m.\u001b[0m\u001b[0masarray\u001b[0m\u001b[0;34m(\u001b[0m\u001b[0;34m[\u001b[0m\u001b[0mSpectrum\u001b[0m\u001b[0;34m(\u001b[0m\u001b[0momega\u001b[0m\u001b[0;34m,\u001b[0m \u001b[0mL\u001b[0m\u001b[0;34m,\u001b[0m \u001b[0ma\u001b[0m\u001b[0;34m,\u001b[0m \u001b[0mrhs\u001b[0m\u001b[0;34m)\u001b[0m \u001b[0;32mfor\u001b[0m \u001b[0momega\u001b[0m \u001b[0;32min\u001b[0m \u001b[0momega_grid\u001b[0m\u001b[0;34m]\u001b[0m\u001b[0;34m)\u001b[0m\u001b[0;34m\u001b[0m\u001b[0;34m\u001b[0m\u001b[0m\n\u001b[0m",
            "\u001b[0;32m<ipython-input-220-f09a0e14a7db>\u001b[0m in \u001b[0;36m<listcomp>\u001b[0;34m(.0)\u001b[0m\n\u001b[0;32m----> 1\u001b[0;31m \u001b[0mspectrum\u001b[0m \u001b[0;34m=\u001b[0m \u001b[0mnp\u001b[0m\u001b[0;34m.\u001b[0m\u001b[0masarray\u001b[0m\u001b[0;34m(\u001b[0m\u001b[0;34m[\u001b[0m\u001b[0mSpectrum\u001b[0m\u001b[0;34m(\u001b[0m\u001b[0momega\u001b[0m\u001b[0;34m,\u001b[0m \u001b[0mL\u001b[0m\u001b[0;34m,\u001b[0m \u001b[0ma\u001b[0m\u001b[0;34m,\u001b[0m \u001b[0mrhs\u001b[0m\u001b[0;34m)\u001b[0m \u001b[0;32mfor\u001b[0m \u001b[0momega\u001b[0m \u001b[0;32min\u001b[0m \u001b[0momega_grid\u001b[0m\u001b[0;34m]\u001b[0m\u001b[0;34m)\u001b[0m\u001b[0;34m\u001b[0m\u001b[0;34m\u001b[0m\u001b[0m\n\u001b[0m",
            "\u001b[0;32m<ipython-input-218-68e957e5e09c>\u001b[0m in \u001b[0;36mSpectrum\u001b[0;34m(omega, liouv, a, rhs)\u001b[0m\n\u001b[1;32m      9\u001b[0m \u001b[0;34m\u001b[0m\u001b[0m\n\u001b[1;32m     10\u001b[0m   \u001b[0mv\u001b[0m \u001b[0;34m=\u001b[0m \u001b[0mspsolve\u001b[0m\u001b[0;34m(\u001b[0m\u001b[0mliouvM\u001b[0m \u001b[0;34m+\u001b[0m \u001b[0;36m1j\u001b[0m\u001b[0;34m*\u001b[0m\u001b[0mid\u001b[0m\u001b[0;34m*\u001b[0m\u001b[0momega\u001b[0m\u001b[0;34m,\u001b[0m \u001b[0mrhs\u001b[0m\u001b[0;34m)\u001b[0m\u001b[0;34m\u001b[0m\u001b[0;34m\u001b[0m\u001b[0m\n\u001b[0;32m---> 11\u001b[0;31m   \u001b[0mrho_eff\u001b[0m\u001b[0;34m=\u001b[0m\u001b[0mket2dm\u001b[0m\u001b[0;34m(\u001b[0m\u001b[0mket\u001b[0m\u001b[0;34m(\u001b[0m\u001b[0mv\u001b[0m\u001b[0;34m)\u001b[0m\u001b[0;34m)\u001b[0m\u001b[0;34m\u001b[0m\u001b[0;34m\u001b[0m\u001b[0m\n\u001b[0m\u001b[1;32m     12\u001b[0m   \u001b[0maM\u001b[0m \u001b[0;34m=\u001b[0m \u001b[0ma\u001b[0m\u001b[0;34m.\u001b[0m\u001b[0mdata\u001b[0m\u001b[0;34m\u001b[0m\u001b[0;34m\u001b[0m\u001b[0m\n\u001b[1;32m     13\u001b[0m   \u001b[0;32mreturn\u001b[0m \u001b[0;34m-\u001b[0m\u001b[0mnp\u001b[0m\u001b[0;34m.\u001b[0m\u001b[0mreal\u001b[0m\u001b[0;34m(\u001b[0m\u001b[0mnp\u001b[0m\u001b[0;34m.\u001b[0m\u001b[0mtrace\u001b[0m\u001b[0;34m(\u001b[0m\u001b[0maM\u001b[0m\u001b[0;34m*\u001b[0m\u001b[0mrho_eff\u001b[0m\u001b[0;34m)\u001b[0m\u001b[0;34m)\u001b[0m\u001b[0;34m/\u001b[0m\u001b[0mpi\u001b[0m\u001b[0;34m\u001b[0m\u001b[0;34m\u001b[0m\u001b[0m\n",
            "\u001b[0;32m/usr/local/lib/python3.8/dist-packages/qutip/states.py\u001b[0m in \u001b[0;36mket\u001b[0;34m(seq, dim)\u001b[0m\n\u001b[1;32m    667\u001b[0m     \u001b[0;32mif\u001b[0m \u001b[0misinstance\u001b[0m\u001b[0;34m(\u001b[0m\u001b[0mdim\u001b[0m\u001b[0;34m,\u001b[0m \u001b[0mint\u001b[0m\u001b[0;34m)\u001b[0m\u001b[0;34m:\u001b[0m\u001b[0;34m\u001b[0m\u001b[0;34m\u001b[0m\u001b[0m\n\u001b[1;32m    668\u001b[0m         \u001b[0mdim\u001b[0m \u001b[0;34m=\u001b[0m \u001b[0;34m[\u001b[0m\u001b[0mdim\u001b[0m\u001b[0;34m]\u001b[0m \u001b[0;34m*\u001b[0m \u001b[0mlen\u001b[0m\u001b[0;34m(\u001b[0m\u001b[0mseq\u001b[0m\u001b[0;34m)\u001b[0m\u001b[0;34m\u001b[0m\u001b[0;34m\u001b[0m\u001b[0m\n\u001b[0;32m--> 669\u001b[0;31m     return tensor([basis(dim[i], _character_to_qudit(x))\n\u001b[0m\u001b[1;32m    670\u001b[0m                    for i, x in enumerate(seq)])\n\u001b[1;32m    671\u001b[0m \u001b[0;34m\u001b[0m\u001b[0m\n",
            "\u001b[0;32m/usr/local/lib/python3.8/dist-packages/qutip/tensor.py\u001b[0m in \u001b[0;36mtensor\u001b[0;34m(*args)\u001b[0m\n\u001b[1;32m     82\u001b[0m             \u001b[0mout\u001b[0m\u001b[0;34m.\u001b[0m\u001b[0mdims\u001b[0m \u001b[0;34m=\u001b[0m \u001b[0mq\u001b[0m\u001b[0;34m.\u001b[0m\u001b[0mdims\u001b[0m\u001b[0;34m\u001b[0m\u001b[0;34m\u001b[0m\u001b[0m\n\u001b[1;32m     83\u001b[0m         \u001b[0;32melse\u001b[0m\u001b[0;34m:\u001b[0m\u001b[0;34m\u001b[0m\u001b[0;34m\u001b[0m\u001b[0m\n\u001b[0;32m---> 84\u001b[0;31m             \u001b[0mout\u001b[0m\u001b[0;34m.\u001b[0m\u001b[0mdata\u001b[0m  \u001b[0;34m=\u001b[0m \u001b[0mzcsr_kron\u001b[0m\u001b[0;34m(\u001b[0m\u001b[0mout\u001b[0m\u001b[0;34m.\u001b[0m\u001b[0mdata\u001b[0m\u001b[0;34m,\u001b[0m \u001b[0mq\u001b[0m\u001b[0;34m.\u001b[0m\u001b[0mdata\u001b[0m\u001b[0;34m)\u001b[0m\u001b[0;34m\u001b[0m\u001b[0;34m\u001b[0m\u001b[0m\n\u001b[0m\u001b[1;32m     85\u001b[0m \u001b[0;34m\u001b[0m\u001b[0m\n\u001b[1;32m     86\u001b[0m             \u001b[0mout\u001b[0m\u001b[0;34m.\u001b[0m\u001b[0mdims\u001b[0m \u001b[0;34m=\u001b[0m \u001b[0;34m[\u001b[0m\u001b[0mout\u001b[0m\u001b[0;34m.\u001b[0m\u001b[0mdims\u001b[0m\u001b[0;34m[\u001b[0m\u001b[0;36m0\u001b[0m\u001b[0;34m]\u001b[0m \u001b[0;34m+\u001b[0m \u001b[0mq\u001b[0m\u001b[0;34m.\u001b[0m\u001b[0mdims\u001b[0m\u001b[0;34m[\u001b[0m\u001b[0;36m0\u001b[0m\u001b[0;34m]\u001b[0m\u001b[0;34m,\u001b[0m \u001b[0mout\u001b[0m\u001b[0;34m.\u001b[0m\u001b[0mdims\u001b[0m\u001b[0;34m[\u001b[0m\u001b[0;36m1\u001b[0m\u001b[0;34m]\u001b[0m \u001b[0;34m+\u001b[0m \u001b[0mq\u001b[0m\u001b[0;34m.\u001b[0m\u001b[0mdims\u001b[0m\u001b[0;34m[\u001b[0m\u001b[0;36m1\u001b[0m\u001b[0;34m]\u001b[0m\u001b[0;34m]\u001b[0m\u001b[0;34m\u001b[0m\u001b[0;34m\u001b[0m\u001b[0m\n",
            "\u001b[0;32m/usr/local/lib/python3.8/dist-packages/qutip/cy/spmath.pyx\u001b[0m in \u001b[0;36mqutip.cy.spmath.zcsr_kron\u001b[0;34m()\u001b[0m\n",
            "\u001b[0;32m/usr/local/lib/python3.8/dist-packages/qutip/cy/sparse_routines.pxi\u001b[0m in \u001b[0;36mqutip.cy.spmath.CSR_to_scipy\u001b[0;34m()\u001b[0m\n",
            "\u001b[0;32m/usr/local/lib/python3.8/dist-packages/qutip/fastsparse.py\u001b[0m in \u001b[0;36m__init__\u001b[0;34m(self, args, shape, dtype, copy)\u001b[0m\n\u001b[1;32m     28\u001b[0m     \u001b[0mchecks\u001b[0m \u001b[0mthat\u001b[0m \u001b[0mare\u001b[0m \u001b[0mrun\u001b[0m \u001b[0meverytime\u001b[0m \u001b[0ma\u001b[0m \u001b[0mnew\u001b[0m \u001b[0mcsr_matrix\u001b[0m \u001b[0;32mis\u001b[0m \u001b[0mcreated\u001b[0m\u001b[0;34m.\u001b[0m\u001b[0;34m\u001b[0m\u001b[0;34m\u001b[0m\u001b[0m\n\u001b[1;32m     29\u001b[0m     \"\"\"\n\u001b[0;32m---> 30\u001b[0;31m     \u001b[0;32mdef\u001b[0m \u001b[0m__init__\u001b[0m\u001b[0;34m(\u001b[0m\u001b[0mself\u001b[0m\u001b[0;34m,\u001b[0m \u001b[0margs\u001b[0m\u001b[0;34m=\u001b[0m\u001b[0;32mNone\u001b[0m\u001b[0;34m,\u001b[0m \u001b[0mshape\u001b[0m\u001b[0;34m=\u001b[0m\u001b[0;32mNone\u001b[0m\u001b[0;34m,\u001b[0m \u001b[0mdtype\u001b[0m\u001b[0;34m=\u001b[0m\u001b[0;32mNone\u001b[0m\u001b[0;34m,\u001b[0m \u001b[0mcopy\u001b[0m\u001b[0;34m=\u001b[0m\u001b[0;32mFalse\u001b[0m\u001b[0;34m)\u001b[0m\u001b[0;34m:\u001b[0m\u001b[0;34m\u001b[0m\u001b[0;34m\u001b[0m\u001b[0m\n\u001b[0m\u001b[1;32m     31\u001b[0m         \u001b[0;32mif\u001b[0m \u001b[0margs\u001b[0m \u001b[0;32mis\u001b[0m \u001b[0;32mNone\u001b[0m\u001b[0;34m:\u001b[0m \u001b[0;31m#Build zero matrix\u001b[0m\u001b[0;34m\u001b[0m\u001b[0;34m\u001b[0m\u001b[0m\n\u001b[1;32m     32\u001b[0m             \u001b[0;32mif\u001b[0m \u001b[0mshape\u001b[0m \u001b[0;32mis\u001b[0m \u001b[0;32mNone\u001b[0m\u001b[0;34m:\u001b[0m\u001b[0;34m\u001b[0m\u001b[0;34m\u001b[0m\u001b[0m\n",
            "\u001b[0;31mKeyboardInterrupt\u001b[0m: "
          ]
        }
      ]
    },
    {
      "cell_type": "code",
      "source": [
        "plt.plot(omega_grid, spectrum)\n",
        "plt.show()"
      ],
      "metadata": {
        "colab": {
          "base_uri": "https://localhost:8080/",
          "height": 271
        },
        "id": "NhXa2Qeif9AO",
        "outputId": "b597d913-aa10-4818-a26e-6623c62ed459"
      },
      "execution_count": 213,
      "outputs": [
        {
          "output_type": "display_data",
          "data": {
            "text/plain": [
              "<Figure size 432x288 with 1 Axes>"
            ],
            "image/png": "[encoded data removed]"
          },
          "metadata": {
            "needs_background": "light"
          }
        }
      ]
    },
    {
      "cell_type": "code",
      "source": [
        "eigen_vecs=L.eigenstates()\n",
        "E = np.transpose(np.reshape(\n",
        "    np.array([eigen_vecs[1][i].full() for i in range(h2)]), \n",
        "    (h2,h2)))\n",
        "Einv = np.linalg.inv(E)\n",
        "EinvTr = Einv.T\n",
        "eigvals = eigen_vecs[0]\n",
        "Einvrhs=EinvTr@rhs"
      ],
      "metadata": {
        "id": "ELgyYys3fx_K"
      },
      "execution_count": 146,
      "outputs": []
    },
    {
      "cell_type": "code",
      "source": [
        "aM = a.data\n",
        "spectrum=np.asarray([-np.real((aM*vec2mat((E@((1/(eigvals + 1j*omega))*EinvTr).T)@rhs)).trace())/pi for omega in omega_grid])"
      ],
      "metadata": {
        "id": "KVMXOg4AiIWQ"
      },
      "execution_count": 147,
      "outputs": []
    },
    {
      "cell_type": "code",
      "source": [
        "plt.plot(omega_grid, spectrum)\n",
        "plt.show()"
      ],
      "metadata": {
        "colab": {
          "base_uri": "https://localhost:8080/",
          "height": 271
        },
        "id": "wXyWvVCwhQ8e",
        "outputId": "74c01175-b327-493d-9d07-f1ba3ef6098e"
      },
      "execution_count": 148,
      "outputs": [
        {
          "output_type": "display_data",
          "data": {
            "text/plain": [
              "<Figure size 432x288 with 1 Axes>"
            ],
            "image/png": "[encoded data removed]"
          },
          "metadata": {
            "needs_background": "light"
          }
        }
      ]
    },
    {
      "cell_type": "code",
      "source": [],
      "metadata": {
        "id": "YQR89ssAkF8X"
      },
      "execution_count": 127,
      "outputs": []
    }
  ],
  "metadata": {
    "kernelspec": {
      "display_name": "Qutip",
      "language": "python",
      "name": "python3"
    },
    "language_info": {
      "name": "python",
      "version": "3.9.13"
    },
    "orig_nbformat": 4,
    "vscode": {
      "interpreter": {
        "hash": "3edf10cf27171603c7f4c9989650f758ec4195f7c30a56cc7d1410fc7a6a5c0a"
      }
    },
    "colab": {
      "provenance": [],
      "toc_visible": true
    }
  },
  "nbformat": 4,
  "nbformat_minor": 0
}